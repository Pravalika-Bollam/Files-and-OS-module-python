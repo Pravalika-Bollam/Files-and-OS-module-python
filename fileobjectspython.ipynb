{
 "cells": [
  {
   "cell_type": "code",
   "execution_count": 19,
   "metadata": {},
   "outputs": [],
   "source": [
    "#same directiry so \n",
    "# r for read, w for write, a for appending, r+ for reading and writing\n",
    "\n",
    "file = open('text.txt', 'r'),"
   ]
  },
  {
   "cell_type": "code",
   "execution_count": 24,
   "metadata": {},
   "outputs": [
    {
     "data": {
      "text/plain": [
       "(<_io.TextIOWrapper name='text.txt' mode='r' encoding='utf-8'>,)"
      ]
     },
     "execution_count": 24,
     "metadata": {},
     "output_type": "execute_result"
    }
   ],
   "source": [
    "file"
   ]
  },
  {
   "cell_type": "code",
   "execution_count": 25,
   "metadata": {},
   "outputs": [
    {
     "data": {
      "text/plain": [
       "tuple"
      ]
     },
     "execution_count": 25,
     "metadata": {},
     "output_type": "execute_result"
    }
   ],
   "source": [
    "type(file)"
   ]
  },
  {
   "cell_type": "code",
   "execution_count": 27,
   "metadata": {},
   "outputs": [
    {
     "ename": "AttributeError",
     "evalue": "'tuple' object has no attribute 'name'",
     "output_type": "error",
     "traceback": [
      "\u001b[1;31m---------------------------------------------------------------------------\u001b[0m",
      "\u001b[1;31mAttributeError\u001b[0m                            Traceback (most recent call last)",
      "\u001b[1;32mc:\\Users\\prava\\OneDrive\\Desktop\\mynew\\fileobjectspython.ipynb Cell 4\u001b[0m line \u001b[0;36m2\n\u001b[0;32m      <a href='vscode-notebook-cell:/c%3A/Users/prava/OneDrive/Desktop/mynew/fileobjectspython.ipynb#X12sZmlsZQ%3D%3D?line=0'>1</a>\u001b[0m \u001b[39m#throwing error for f.name\u001b[39;00m\n\u001b[1;32m----> <a href='vscode-notebook-cell:/c%3A/Users/prava/OneDrive/Desktop/mynew/fileobjectspython.ipynb#X12sZmlsZQ%3D%3D?line=1'>2</a>\u001b[0m file\u001b[39m.\u001b[39;49mname()\n",
      "\u001b[1;31mAttributeError\u001b[0m: 'tuple' object has no attribute 'name'"
     ]
    }
   ],
   "source": [
    "#throwing error for f.name\n",
    "file.name()"
   ]
  },
  {
   "cell_type": "code",
   "execution_count": 28,
   "metadata": {},
   "outputs": [
    {
     "data": {
      "text/plain": [
       "'text.txt'"
      ]
     },
     "execution_count": 28,
     "metadata": {},
     "output_type": "execute_result"
    }
   ],
   "source": [
    "file[0].name"
   ]
  },
  {
   "cell_type": "code",
   "execution_count": 29,
   "metadata": {},
   "outputs": [],
   "source": [
    "file[0].close()"
   ]
  },
  {
   "cell_type": "code",
   "execution_count": 30,
   "metadata": {},
   "outputs": [
    {
     "data": {
      "text/plain": [
       "'r'"
      ]
     },
     "execution_count": 30,
     "metadata": {},
     "output_type": "execute_result"
    }
   ],
   "source": [
    "file[0].mode"
   ]
  },
  {
   "cell_type": "code",
   "execution_count": 32,
   "metadata": {},
   "outputs": [
    {
     "name": "stdout",
     "output_type": "stream",
     "text": [
      "True\n"
     ]
    }
   ],
   "source": [
    "print(file[0].closed)"
   ]
  },
  {
   "cell_type": "code",
   "execution_count": 33,
   "metadata": {},
   "outputs": [
    {
     "ename": "ValueError",
     "evalue": "I/O operation on closed file.",
     "output_type": "error",
     "traceback": [
      "\u001b[1;31m---------------------------------------------------------------------------\u001b[0m",
      "\u001b[1;31mValueError\u001b[0m                                Traceback (most recent call last)",
      "\u001b[1;32mc:\\Users\\prava\\OneDrive\\Desktop\\mynew\\fileobjectspython.ipynb Cell 9\u001b[0m line \u001b[0;36m1\n\u001b[1;32m----> <a href='vscode-notebook-cell:/c%3A/Users/prava/OneDrive/Desktop/mynew/fileobjectspython.ipynb#X14sZmlsZQ%3D%3D?line=0'>1</a>\u001b[0m file[\u001b[39m0\u001b[39;49m]\u001b[39m.\u001b[39;49mread()\n",
      "\u001b[1;31mValueError\u001b[0m: I/O operation on closed file."
     ]
    }
   ],
   "source": [
    "file[0].read()"
   ]
  },
  {
   "cell_type": "code",
   "execution_count": 34,
   "metadata": {},
   "outputs": [],
   "source": [
    "#not closing files cause leakages, use context managers\n",
    "# it closes file automatically\n",
    "\n",
    "with open ('text.txt', 'r') as f:\n",
    "    f_content = f.read()\n"
   ]
  },
  {
   "cell_type": "code",
   "execution_count": 35,
   "metadata": {},
   "outputs": [
    {
     "data": {
      "text/plain": [
       "'this is the first line\\nand this is the second line\\nhere comes the third line\\nending with the 4th line and making space in 5th\\n '"
      ]
     },
     "execution_count": 35,
     "metadata": {},
     "output_type": "execute_result"
    }
   ],
   "source": [
    "f_content"
   ]
  },
  {
   "cell_type": "code",
   "execution_count": 36,
   "metadata": {},
   "outputs": [],
   "source": [
    "#if the file is large, it is better to not load the whoel content\n",
    "with open ('text.txt', 'r') as f:\n",
    "    f_content = f.readlines()\n"
   ]
  },
  {
   "cell_type": "code",
   "execution_count": 38,
   "metadata": {},
   "outputs": [
    {
     "data": {
      "text/plain": [
       "['this is the first line\\n',\n",
       " 'and this is the second line\\n',\n",
       " 'here comes the third line\\n',\n",
       " 'ending with the 4th line and making space in 5th\\n',\n",
       " ' ']"
      ]
     },
     "execution_count": 38,
     "metadata": {},
     "output_type": "execute_result"
    }
   ],
   "source": [
    "f_content\n"
   ]
  },
  {
   "cell_type": "code",
   "execution_count": 39,
   "metadata": {},
   "outputs": [
    {
     "name": "stdout",
     "output_type": "stream",
     "text": [
      "this is the first line\n",
      "\n"
     ]
    }
   ],
   "source": [
    "with open ('text.txt', 'r') as f:\n",
    "    f_content = f.readline()\n",
    "    print(f_content)"
   ]
  },
  {
   "cell_type": "code",
   "execution_count": 73,
   "metadata": {},
   "outputs": [
    {
     "name": "stdout",
     "output_type": "stream",
     "text": [
      "this is the first line\n",
      "\n",
      "and this is the second line\n",
      "\n",
      "here comes the third line\n",
      "\n",
      "ending with the 4th line and making space in 5th\n",
      "\n",
      " \n"
     ]
    }
   ],
   "source": [
    "with open ('text.txt', 'r') as f:\n",
    "    for line in f:\n",
    "        print(line)"
   ]
  },
  {
   "cell_type": "code",
   "execution_count": 44,
   "metadata": {},
   "outputs": [
    {
     "data": {
      "text/plain": [
       "True"
      ]
     },
     "execution_count": 44,
     "metadata": {},
     "output_type": "execute_result"
    }
   ],
   "source": [
    "f.closed"
   ]
  },
  {
   "cell_type": "code",
   "execution_count": 45,
   "metadata": {},
   "outputs": [],
   "source": [
    "#reads 100 characters\n",
    "with open ('text.txt', 'r') as f:\n",
    "    f_content = f.read(100)"
   ]
  },
  {
   "cell_type": "code",
   "execution_count": 46,
   "metadata": {},
   "outputs": [
    {
     "data": {
      "text/plain": [
       "'this is the first line\\nand this is the second line\\nhere comes the third line\\nending with the 4th lin'"
      ]
     },
     "execution_count": 46,
     "metadata": {},
     "output_type": "execute_result"
    }
   ],
   "source": [
    "f_content"
   ]
  },
  {
   "cell_type": "code",
   "execution_count": 48,
   "metadata": {},
   "outputs": [
    {
     "name": "stdout",
     "output_type": "stream",
     "text": [
      "thi*s i*s t*he *fir*st *lin*e\n",
      "a*nd *thi*s i*s t*he *sec*ond* li*ne\n",
      "*her*e c*ome*s t*he *thi*rd *lin*e\n",
      "e*ndi*ng *wit*h t*he *4th* li*ne *and* ma*kin*g s*pac*e i*n 5*th\n",
      "* *"
     ]
    }
   ],
   "source": [
    "with open('text.txt' , 'r') as f:\n",
    "    size_to_read = 3\n",
    "    f_contents = f.read(size_to_read)\n",
    "    while len(f_contents)>0:\n",
    "        print(f_contents, end ='*')\n",
    "        f_contents = f.read(size_to_read)"
   ]
  },
  {
   "cell_type": "code",
   "execution_count": 49,
   "metadata": {},
   "outputs": [],
   "source": [
    "#f.tell() gives the current position"
   ]
  },
  {
   "cell_type": "code",
   "execution_count": 52,
   "metadata": {},
   "outputs": [
    {
     "name": "stdout",
     "output_type": "stream",
     "text": [
      "this is the first line\n",
      "and this is the second line\n",
      "here comes the third line\n",
      "ending with the 4th line and making space in 5th\n",
      "  current position: 131\n",
      "position after seeking 0\n",
      "this is the first line\n",
      "and this is the second line\n",
      "here comes the third line\n",
      "ending with the 4th line and making space in 5th\n",
      "  "
     ]
    }
   ],
   "source": [
    "with open('text.txt', 'r') as f:\n",
    "    size = 10\n",
    "    f_content = f.read()\n",
    "    print(f_content , end = \" \")\n",
    "    print(f'current position: {f.tell()}')\n",
    "    f.seek(0)\n",
    "    print(f'position after seeking {f.tell()}')\n",
    "    f_content = f.read()\n",
    "    print(f_content, end = \" \")\n",
    "    \n",
    "    \n"
   ]
  },
  {
   "cell_type": "code",
   "execution_count": 53,
   "metadata": {},
   "outputs": [],
   "source": [
    "# if we write to a file that is already there, it overwrites it, so use appeend\n",
    "# write create a new file if the mentioned file doesn't exist"
   ]
  },
  {
   "cell_type": "code",
   "execution_count": 56,
   "metadata": {},
   "outputs": [
    {
     "data": {
      "text/plain": [
       "['.vscode',\n",
       " 'fileobjectspython.ipynb',\n",
       " 'osmodulenew.ipynb',\n",
       " 'ospython.ipynb',\n",
       " 'text.txt']"
      ]
     },
     "execution_count": 56,
     "metadata": {},
     "output_type": "execute_result"
    }
   ],
   "source": [
    "import os\n",
    "os.listdir()"
   ]
  },
  {
   "cell_type": "code",
   "execution_count": 57,
   "metadata": {},
   "outputs": [],
   "source": [
    "with open('createnew.txt', 'w') as f:\n",
    "    f.write('hey, I just created a new file')"
   ]
  },
  {
   "cell_type": "code",
   "execution_count": 58,
   "metadata": {},
   "outputs": [
    {
     "data": {
      "text/plain": [
       "['.vscode',\n",
       " 'createnew.txt',\n",
       " 'fileobjectspython.ipynb',\n",
       " 'osmodulenew.ipynb',\n",
       " 'ospython.ipynb',\n",
       " 'text.txt']"
      ]
     },
     "execution_count": 58,
     "metadata": {},
     "output_type": "execute_result"
    }
   ],
   "source": [
    "os.listdir()"
   ]
  },
  {
   "cell_type": "code",
   "execution_count": 59,
   "metadata": {},
   "outputs": [
    {
     "name": "stdout",
     "output_type": "stream",
     "text": [
      "hey, I just created a new file\n"
     ]
    }
   ],
   "source": [
    "with open('createnew.txt', 'r') as f:\n",
    "    print(f.read())"
   ]
  },
  {
   "cell_type": "code",
   "execution_count": 60,
   "metadata": {},
   "outputs": [],
   "source": [
    "with open('createnew.txt', 'w') as f:\n",
    "    f.write('Iam overwriting it ')"
   ]
  },
  {
   "cell_type": "code",
   "execution_count": 61,
   "metadata": {},
   "outputs": [
    {
     "name": "stdout",
     "output_type": "stream",
     "text": [
      "Iam overwriting it \n"
     ]
    }
   ],
   "source": [
    "with open('createnew.txt', 'r') as f:\n",
    "    print(f.read())"
   ]
  },
  {
   "cell_type": "code",
   "execution_count": 63,
   "metadata": {},
   "outputs": [],
   "source": [
    "# so append\n",
    "with open('createnew.txt', 'a') as f:\n",
    "    f.write('iam appending')"
   ]
  },
  {
   "cell_type": "code",
   "execution_count": 64,
   "metadata": {},
   "outputs": [
    {
     "name": "stdout",
     "output_type": "stream",
     "text": [
      "Iam overwriting it iam appending\n"
     ]
    }
   ],
   "source": [
    "with open('createnew.txt', 'r') as f:\n",
    "    print(f.read())"
   ]
  },
  {
   "cell_type": "code",
   "execution_count": 67,
   "metadata": {},
   "outputs": [],
   "source": [
    "# we can use seek with write also\n",
    "with open('createnew.txt', 'w') as f:\n",
    "    f.write('test')\n",
    "    f.write('test')"
   ]
  },
  {
   "cell_type": "code",
   "execution_count": 68,
   "metadata": {},
   "outputs": [
    {
     "name": "stdout",
     "output_type": "stream",
     "text": [
      "testtest\n"
     ]
    }
   ],
   "source": [
    "with open('createnew.txt', 'r') as f:\n",
    "    print(f.read())"
   ]
  },
  {
   "cell_type": "code",
   "execution_count": 69,
   "metadata": {},
   "outputs": [],
   "source": [
    "with open('createnew.txt', 'w') as f:\n",
    "    f.write('test')\n",
    "    f.seek(0)\n",
    "    f.write('Test')"
   ]
  },
  {
   "cell_type": "code",
   "execution_count": 70,
   "metadata": {},
   "outputs": [
    {
     "name": "stdout",
     "output_type": "stream",
     "text": [
      "Test\n"
     ]
    }
   ],
   "source": [
    "with open('createnew.txt', 'r') as f:\n",
    "    print(f.read())"
   ]
  },
  {
   "cell_type": "code",
   "execution_count": 72,
   "metadata": {},
   "outputs": [],
   "source": [
    "# the second \"test\" overwrote first \"test\""
   ]
  },
  {
   "cell_type": "code",
   "execution_count": 74,
   "metadata": {},
   "outputs": [],
   "source": [
    "with open('text.txt', 'r') as rf:\n",
    "    with open('text_copy.txt', 'w') as wf:\n",
    "        for line in rf:\n",
    "            wf.write(line)"
   ]
  },
  {
   "cell_type": "code",
   "execution_count": 75,
   "metadata": {},
   "outputs": [
    {
     "name": "stdout",
     "output_type": "stream",
     "text": [
      "this is the first line\n",
      "and this is the second line\n",
      "here comes the third line\n",
      "ending with the 4th line and making space in 5th\n",
      " \n"
     ]
    }
   ],
   "source": [
    "with open('text_copy.txt', 'r') as f:\n",
    "    print(f.read())"
   ]
  },
  {
   "cell_type": "code",
   "execution_count": 76,
   "metadata": {},
   "outputs": [],
   "source": [
    "# to work with images, use 'rb', 'wb'"
   ]
  },
  {
   "cell_type": "code",
   "execution_count": 78,
   "metadata": {},
   "outputs": [],
   "source": [
    "with open('cat.jpg', 'rb') as rf:\n",
    "    with open('cat_copy.jpg', 'wb') as wf:\n",
    "        chunk_size = 2000\n",
    "        rf_chunk = rf.read(chunk_size)\n",
    "        while len(rf_chunk)>0:\n",
    "            wf.write(rf_chunk)\n",
    "            rf_chunk = rf.read(chunk_size)"
   ]
  },
  {
   "cell_type": "code",
   "execution_count": null,
   "metadata": {},
   "outputs": [],
   "source": []
  }
 ],
 "metadata": {
  "kernelspec": {
   "display_name": "myenv",
   "language": "python",
   "name": "python3"
  },
  "language_info": {
   "codemirror_mode": {
    "name": "ipython",
    "version": 3
   },
   "file_extension": ".py",
   "mimetype": "text/x-python",
   "name": "python",
   "nbconvert_exporter": "python",
   "pygments_lexer": "ipython3",
   "version": "3.12.0"
  }
 },
 "nbformat": 4,
 "nbformat_minor": 2
}
